{
 "cells": [
  {
   "cell_type": "code",
   "execution_count": 20,
   "id": "444e8807",
   "metadata": {},
   "outputs": [],
   "source": [
    "import pandas as pd\n",
    "import numpy as np\n",
    "import os\n",
    "import glob as glob\n",
    "import gc"
   ]
  },
  {
   "cell_type": "code",
   "execution_count": 49,
   "id": "64d8c15f",
   "metadata": {},
   "outputs": [],
   "source": [
    "import joblib\n",
    "from surprise import SVD\n",
    "from surprise import Reader, Dataset\n",
    "from collections import defaultdict"
   ]
  },
  {
   "cell_type": "markdown",
   "id": "383a7182",
   "metadata": {},
   "source": [
    "### Loading of Data"
   ]
  },
  {
   "cell_type": "markdown",
   "id": "c3fd8992",
   "metadata": {},
   "source": [
    "##### Trained on subset of training data [ to avoid memory error]"
   ]
  },
  {
   "cell_type": "code",
   "execution_count": 22,
   "id": "7db201bf",
   "metadata": {},
   "outputs": [],
   "source": [
    "\"\"\"for file in glob.glob(os.getcwd()+'\\*.csv'):\n",
    "    print(file)\"\"\"\n",
    "\n",
    "df_tr = pd.read_csv('reco_assignment_training.csv')[0:10000]\n",
    "df_tr['date'] = pd.to_datetime(df_tr['Tran_dt'])\n",
    "\n",
    "df_ts = pd.read_csv('reco_assignment_holdout.csv')\n",
    "df_ts['date'] = pd.to_datetime(df_ts['Tran_dt'])"
   ]
  },
  {
   "cell_type": "code",
   "execution_count": 25,
   "id": "c870a417",
   "metadata": {},
   "outputs": [
    {
     "data": {
      "text/plain": [
       "(5263, 12232)"
      ]
     },
     "execution_count": 25,
     "metadata": {},
     "output_type": "execute_result"
    }
   ],
   "source": [
    "cust = df_tr['Customer_num'].unique()\n",
    "prod = df_tr['Product_num'].unique()\n",
    "\n",
    "cust_ts = df_ts['Customer_num'].unique()\n",
    "prod_ts = df_ts['Product_num'].unique()\n",
    "\n",
    "cust_new = [i for i in cust_ts if i not in cust]\n",
    "prod_new = [i for i in prod_ts if i not in prod]\n",
    "len(cust_new), len(prod_new)"
   ]
  },
  {
   "cell_type": "markdown",
   "id": "d72a19f4",
   "metadata": {},
   "source": [
    "### Transformation of training data"
   ]
  },
  {
   "cell_type": "code",
   "execution_count": 28,
   "id": "f37d6bd0",
   "metadata": {},
   "outputs": [],
   "source": [
    "def trans_form(df):    \n",
    "    df_agg = df_tr.groupby(['Customer_num','Product_num'])['Tran_qty'].sum().reset_index()\n",
    "    df_agg_tot = df_tr.groupby(['Customer_num'])['Tran_qty'].agg([\"mean\", \"sum\"]).reset_index()\n",
    "    df_tr_agg = df_agg.merge(df_agg_tot, on = ['Customer_num'], how='inner')\n",
    "    df_tr_agg['rating'] = (df_tr_agg['Tran_qty']*10/df_tr_agg['sum'])\n",
    "    ### Normalizing the rating converting them into percentage\n",
    "    return df_tr_agg"
   ]
  },
  {
   "cell_type": "code",
   "execution_count": 29,
   "id": "bf34e3ac",
   "metadata": {},
   "outputs": [],
   "source": [
    "df_tr_agg = trans_form(df_tr)"
   ]
  },
  {
   "cell_type": "code",
   "execution_count": 30,
   "id": "11cc1707",
   "metadata": {},
   "outputs": [
    {
     "data": {
      "text/html": [
       "<div>\n",
       "<style scoped>\n",
       "    .dataframe tbody tr th:only-of-type {\n",
       "        vertical-align: middle;\n",
       "    }\n",
       "\n",
       "    .dataframe tbody tr th {\n",
       "        vertical-align: top;\n",
       "    }\n",
       "\n",
       "    .dataframe thead th {\n",
       "        text-align: right;\n",
       "    }\n",
       "</style>\n",
       "<table border=\"1\" class=\"dataframe\">\n",
       "  <thead>\n",
       "    <tr style=\"text-align: right;\">\n",
       "      <th></th>\n",
       "      <th>Customer_num</th>\n",
       "      <th>Product_num</th>\n",
       "      <th>Tran_qty</th>\n",
       "      <th>mean</th>\n",
       "      <th>sum</th>\n",
       "      <th>rating</th>\n",
       "    </tr>\n",
       "  </thead>\n",
       "  <tbody>\n",
       "    <tr>\n",
       "      <th>0</th>\n",
       "      <td>C_1001004</td>\n",
       "      <td>P_4251</td>\n",
       "      <td>4.00</td>\n",
       "      <td>1.94</td>\n",
       "      <td>5.82</td>\n",
       "      <td>6.872852</td>\n",
       "    </tr>\n",
       "    <tr>\n",
       "      <th>1</th>\n",
       "      <td>C_1001004</td>\n",
       "      <td>P_7966</td>\n",
       "      <td>0.82</td>\n",
       "      <td>1.94</td>\n",
       "      <td>5.82</td>\n",
       "      <td>1.408935</td>\n",
       "    </tr>\n",
       "    <tr>\n",
       "      <th>2</th>\n",
       "      <td>C_1001004</td>\n",
       "      <td>P_8822</td>\n",
       "      <td>1.00</td>\n",
       "      <td>1.94</td>\n",
       "      <td>5.82</td>\n",
       "      <td>1.718213</td>\n",
       "    </tr>\n",
       "    <tr>\n",
       "      <th>3</th>\n",
       "      <td>C_1001322</td>\n",
       "      <td>P_15473</td>\n",
       "      <td>1.00</td>\n",
       "      <td>0.70</td>\n",
       "      <td>1.40</td>\n",
       "      <td>7.142857</td>\n",
       "    </tr>\n",
       "    <tr>\n",
       "      <th>4</th>\n",
       "      <td>C_1001322</td>\n",
       "      <td>P_9168</td>\n",
       "      <td>0.40</td>\n",
       "      <td>0.70</td>\n",
       "      <td>1.40</td>\n",
       "      <td>2.857143</td>\n",
       "    </tr>\n",
       "    <tr>\n",
       "      <th>...</th>\n",
       "      <td>...</td>\n",
       "      <td>...</td>\n",
       "      <td>...</td>\n",
       "      <td>...</td>\n",
       "      <td>...</td>\n",
       "      <td>...</td>\n",
       "    </tr>\n",
       "    <tr>\n",
       "      <th>9799</th>\n",
       "      <td>C_998908</td>\n",
       "      <td>P_18531</td>\n",
       "      <td>1.00</td>\n",
       "      <td>1.00</td>\n",
       "      <td>2.00</td>\n",
       "      <td>5.000000</td>\n",
       "    </tr>\n",
       "    <tr>\n",
       "      <th>9800</th>\n",
       "      <td>C_999487</td>\n",
       "      <td>P_23523</td>\n",
       "      <td>1.00</td>\n",
       "      <td>1.00</td>\n",
       "      <td>4.00</td>\n",
       "      <td>2.500000</td>\n",
       "    </tr>\n",
       "    <tr>\n",
       "      <th>9801</th>\n",
       "      <td>C_999487</td>\n",
       "      <td>P_27490</td>\n",
       "      <td>1.00</td>\n",
       "      <td>1.00</td>\n",
       "      <td>4.00</td>\n",
       "      <td>2.500000</td>\n",
       "    </tr>\n",
       "    <tr>\n",
       "      <th>9802</th>\n",
       "      <td>C_999487</td>\n",
       "      <td>P_2909</td>\n",
       "      <td>1.00</td>\n",
       "      <td>1.00</td>\n",
       "      <td>4.00</td>\n",
       "      <td>2.500000</td>\n",
       "    </tr>\n",
       "    <tr>\n",
       "      <th>9803</th>\n",
       "      <td>C_999487</td>\n",
       "      <td>P_8568</td>\n",
       "      <td>1.00</td>\n",
       "      <td>1.00</td>\n",
       "      <td>4.00</td>\n",
       "      <td>2.500000</td>\n",
       "    </tr>\n",
       "  </tbody>\n",
       "</table>\n",
       "<p>9804 rows × 6 columns</p>\n",
       "</div>"
      ],
      "text/plain": [
       "     Customer_num Product_num  Tran_qty  mean   sum    rating\n",
       "0       C_1001004      P_4251      4.00  1.94  5.82  6.872852\n",
       "1       C_1001004      P_7966      0.82  1.94  5.82  1.408935\n",
       "2       C_1001004      P_8822      1.00  1.94  5.82  1.718213\n",
       "3       C_1001322     P_15473      1.00  0.70  1.40  7.142857\n",
       "4       C_1001322      P_9168      0.40  0.70  1.40  2.857143\n",
       "...           ...         ...       ...   ...   ...       ...\n",
       "9799     C_998908     P_18531      1.00  1.00  2.00  5.000000\n",
       "9800     C_999487     P_23523      1.00  1.00  4.00  2.500000\n",
       "9801     C_999487     P_27490      1.00  1.00  4.00  2.500000\n",
       "9802     C_999487      P_2909      1.00  1.00  4.00  2.500000\n",
       "9803     C_999487      P_8568      1.00  1.00  4.00  2.500000\n",
       "\n",
       "[9804 rows x 6 columns]"
      ]
     },
     "execution_count": 30,
     "metadata": {},
     "output_type": "execute_result"
    }
   ],
   "source": [
    "df_tr_agg"
   ]
  },
  {
   "cell_type": "code",
   "execution_count": 33,
   "id": "94ad363e",
   "metadata": {},
   "outputs": [],
   "source": [
    "reader = Reader(rating_scale=(0, 10))\n",
    "data = Dataset.load_from_df(df_tr_agg[[\"Customer_num\", \"Product_num\", \"rating\"]], reader)"
   ]
  },
  {
   "cell_type": "markdown",
   "id": "94df26c0",
   "metadata": {},
   "source": [
    "### Hyper Parameter Tuning"
   ]
  },
  {
   "cell_type": "code",
   "execution_count": 34,
   "id": "3ec71fd8",
   "metadata": {},
   "outputs": [],
   "source": [
    "from surprise.model_selection import GridSearchCV\n",
    "\n",
    "param_grid = {\n",
    "    \"n_epochs\": [25, 30, 40, 50],\n",
    "    \"lr_all\": [0.005, .01, .015, .02, .03],\n",
    "    \"reg_all\": [0.6, .08, .1, .15]\n",
    "}\n",
    "#gs = GridSearchCV(SVD, param_grid, measures=[\"rmse\", \"mae\"], cv=5)\n",
    "#grid_result = gs.fit(data)"
   ]
  },
  {
   "cell_type": "code",
   "execution_count": 145,
   "id": "0bde8b9b",
   "metadata": {
    "scrolled": true
   },
   "outputs": [
    {
     "name": "stdout",
     "output_type": "stream",
     "text": [
      "Best: 0.484893 using {'rmse': {'n_epochs': 50, 'lr_all': 0.03, 'reg_all': 0.1}, 'mae': {'n_epochs': 50, 'lr_all': 0.02, 'reg_all': 0.08}}\n",
      "0.541930 (0.014928) with: {'n_epochs': 25, 'lr_all': 0.005, 'reg_all': 0.6}\n",
      "0.530991 (0.015102) with: {'n_epochs': 25, 'lr_all': 0.005, 'reg_all': 0.08}\n",
      "0.531077 (0.014814) with: {'n_epochs': 25, 'lr_all': 0.005, 'reg_all': 0.1}\n",
      "0.531702 (0.014912) with: {'n_epochs': 25, 'lr_all': 0.005, 'reg_all': 0.15}\n",
      "0.526428 (0.015136) with: {'n_epochs': 25, 'lr_all': 0.01, 'reg_all': 0.6}\n",
      "0.513437 (0.015390) with: {'n_epochs': 25, 'lr_all': 0.01, 'reg_all': 0.08}\n",
      "0.513802 (0.015146) with: {'n_epochs': 25, 'lr_all': 0.01, 'reg_all': 0.1}\n",
      "0.515069 (0.015048) with: {'n_epochs': 25, 'lr_all': 0.01, 'reg_all': 0.15}\n",
      "0.519041 (0.015281) with: {'n_epochs': 25, 'lr_all': 0.015, 'reg_all': 0.6}\n",
      "0.505254 (0.015113) with: {'n_epochs': 25, 'lr_all': 0.015, 'reg_all': 0.08}\n",
      "0.505806 (0.015295) with: {'n_epochs': 25, 'lr_all': 0.015, 'reg_all': 0.1}\n",
      "0.506768 (0.015249) with: {'n_epochs': 25, 'lr_all': 0.015, 'reg_all': 0.15}\n",
      "0.515396 (0.015301) with: {'n_epochs': 25, 'lr_all': 0.02, 'reg_all': 0.6}\n",
      "0.500359 (0.015434) with: {'n_epochs': 25, 'lr_all': 0.02, 'reg_all': 0.08}\n",
      "0.500767 (0.015468) with: {'n_epochs': 25, 'lr_all': 0.02, 'reg_all': 0.1}\n",
      "0.502083 (0.015342) with: {'n_epochs': 25, 'lr_all': 0.02, 'reg_all': 0.15}\n",
      "0.513815 (0.015170) with: {'n_epochs': 25, 'lr_all': 0.03, 'reg_all': 0.6}\n",
      "0.494862 (0.015378) with: {'n_epochs': 25, 'lr_all': 0.03, 'reg_all': 0.08}\n",
      "0.495204 (0.015327) with: {'n_epochs': 25, 'lr_all': 0.03, 'reg_all': 0.1}\n",
      "0.497180 (0.015294) with: {'n_epochs': 25, 'lr_all': 0.03, 'reg_all': 0.15}\n",
      "0.537376 (0.014995) with: {'n_epochs': 30, 'lr_all': 0.005, 'reg_all': 0.6}\n",
      "0.525510 (0.014999) with: {'n_epochs': 30, 'lr_all': 0.005, 'reg_all': 0.08}\n",
      "0.525770 (0.014902) with: {'n_epochs': 30, 'lr_all': 0.005, 'reg_all': 0.1}\n",
      "0.526634 (0.014949) with: {'n_epochs': 30, 'lr_all': 0.005, 'reg_all': 0.15}\n",
      "0.521521 (0.015290) with: {'n_epochs': 30, 'lr_all': 0.01, 'reg_all': 0.6}\n",
      "0.508555 (0.015338) with: {'n_epochs': 30, 'lr_all': 0.01, 'reg_all': 0.08}\n",
      "0.508985 (0.015186) with: {'n_epochs': 30, 'lr_all': 0.01, 'reg_all': 0.1}\n",
      "0.509904 (0.015202) with: {'n_epochs': 30, 'lr_all': 0.01, 'reg_all': 0.15}\n",
      "0.514325 (0.015333) with: {'n_epochs': 30, 'lr_all': 0.015, 'reg_all': 0.6}\n",
      "0.501191 (0.015306) with: {'n_epochs': 30, 'lr_all': 0.015, 'reg_all': 0.08}\n",
      "0.501322 (0.015239) with: {'n_epochs': 30, 'lr_all': 0.015, 'reg_all': 0.1}\n",
      "0.502429 (0.015350) with: {'n_epochs': 30, 'lr_all': 0.015, 'reg_all': 0.15}\n",
      "0.511281 (0.015378) with: {'n_epochs': 30, 'lr_all': 0.02, 'reg_all': 0.6}\n",
      "0.496779 (0.015549) with: {'n_epochs': 30, 'lr_all': 0.02, 'reg_all': 0.08}\n",
      "0.496968 (0.015539) with: {'n_epochs': 30, 'lr_all': 0.02, 'reg_all': 0.1}\n",
      "0.497750 (0.015573) with: {'n_epochs': 30, 'lr_all': 0.02, 'reg_all': 0.15}\n",
      "0.510543 (0.015287) with: {'n_epochs': 30, 'lr_all': 0.03, 'reg_all': 0.6}\n",
      "0.491962 (0.015403) with: {'n_epochs': 30, 'lr_all': 0.03, 'reg_all': 0.08}\n",
      "0.491827 (0.015736) with: {'n_epochs': 30, 'lr_all': 0.03, 'reg_all': 0.1}\n",
      "0.493361 (0.015584) with: {'n_epochs': 30, 'lr_all': 0.03, 'reg_all': 0.15}\n",
      "0.529778 (0.015116) with: {'n_epochs': 40, 'lr_all': 0.005, 'reg_all': 0.6}\n",
      "0.517689 (0.014866) with: {'n_epochs': 40, 'lr_all': 0.005, 'reg_all': 0.08}\n",
      "0.517727 (0.015049) with: {'n_epochs': 40, 'lr_all': 0.005, 'reg_all': 0.1}\n",
      "0.518689 (0.015389) with: {'n_epochs': 40, 'lr_all': 0.005, 'reg_all': 0.15}\n",
      "0.514156 (0.015390) with: {'n_epochs': 40, 'lr_all': 0.01, 'reg_all': 0.6}\n",
      "0.502090 (0.015312) with: {'n_epochs': 40, 'lr_all': 0.01, 'reg_all': 0.08}\n",
      "0.502167 (0.015317) with: {'n_epochs': 40, 'lr_all': 0.01, 'reg_all': 0.1}\n",
      "0.502971 (0.015384) with: {'n_epochs': 40, 'lr_all': 0.01, 'reg_all': 0.15}\n",
      "0.507985 (0.015523) with: {'n_epochs': 40, 'lr_all': 0.015, 'reg_all': 0.6}\n",
      "0.495456 (0.015409) with: {'n_epochs': 40, 'lr_all': 0.015, 'reg_all': 0.08}\n",
      "0.495638 (0.015245) with: {'n_epochs': 40, 'lr_all': 0.015, 'reg_all': 0.1}\n",
      "0.496113 (0.015578) with: {'n_epochs': 40, 'lr_all': 0.015, 'reg_all': 0.15}\n",
      "0.505746 (0.015492) with: {'n_epochs': 40, 'lr_all': 0.02, 'reg_all': 0.6}\n",
      "0.491900 (0.015417) with: {'n_epochs': 40, 'lr_all': 0.02, 'reg_all': 0.08}\n",
      "0.491715 (0.015654) with: {'n_epochs': 40, 'lr_all': 0.02, 'reg_all': 0.1}\n",
      "0.492159 (0.015474) with: {'n_epochs': 40, 'lr_all': 0.02, 'reg_all': 0.15}\n",
      "0.506471 (0.015377) with: {'n_epochs': 40, 'lr_all': 0.03, 'reg_all': 0.6}\n",
      "0.488100 (0.015501) with: {'n_epochs': 40, 'lr_all': 0.03, 'reg_all': 0.08}\n",
      "0.487984 (0.015316) with: {'n_epochs': 40, 'lr_all': 0.03, 'reg_all': 0.1}\n",
      "0.488474 (0.015491) with: {'n_epochs': 40, 'lr_all': 0.03, 'reg_all': 0.15}\n",
      "0.523918 (0.015306) with: {'n_epochs': 50, 'lr_all': 0.005, 'reg_all': 0.6}\n",
      "0.511913 (0.015045) with: {'n_epochs': 50, 'lr_all': 0.005, 'reg_all': 0.08}\n",
      "0.512190 (0.014953) with: {'n_epochs': 50, 'lr_all': 0.005, 'reg_all': 0.1}\n",
      "0.512874 (0.015150) with: {'n_epochs': 50, 'lr_all': 0.005, 'reg_all': 0.15}\n",
      "0.509091 (0.015485) with: {'n_epochs': 50, 'lr_all': 0.01, 'reg_all': 0.6}\n",
      "0.497848 (0.015334) with: {'n_epochs': 50, 'lr_all': 0.01, 'reg_all': 0.08}\n",
      "0.497819 (0.015353) with: {'n_epochs': 50, 'lr_all': 0.01, 'reg_all': 0.1}\n",
      "0.498225 (0.015363) with: {'n_epochs': 50, 'lr_all': 0.01, 'reg_all': 0.15}\n",
      "0.503889 (0.015596) with: {'n_epochs': 50, 'lr_all': 0.015, 'reg_all': 0.6}\n",
      "0.492214 (0.015589) with: {'n_epochs': 50, 'lr_all': 0.015, 'reg_all': 0.08}\n",
      "0.491739 (0.015530) with: {'n_epochs': 50, 'lr_all': 0.015, 'reg_all': 0.1}\n",
      "0.491961 (0.015554) with: {'n_epochs': 50, 'lr_all': 0.015, 'reg_all': 0.15}\n",
      "0.502467 (0.015620) with: {'n_epochs': 50, 'lr_all': 0.02, 'reg_all': 0.6}\n",
      "0.488942 (0.015333) with: {'n_epochs': 50, 'lr_all': 0.02, 'reg_all': 0.08}\n",
      "0.488513 (0.015405) with: {'n_epochs': 50, 'lr_all': 0.02, 'reg_all': 0.1}\n",
      "0.488605 (0.015653) with: {'n_epochs': 50, 'lr_all': 0.02, 'reg_all': 0.15}\n",
      "0.504280 (0.015464) with: {'n_epochs': 50, 'lr_all': 0.03, 'reg_all': 0.6}\n",
      "0.485529 (0.015581) with: {'n_epochs': 50, 'lr_all': 0.03, 'reg_all': 0.08}\n",
      "0.484893 (0.015679) with: {'n_epochs': 50, 'lr_all': 0.03, 'reg_all': 0.1}\n",
      "0.485524 (0.015597) with: {'n_epochs': 50, 'lr_all': 0.03, 'reg_all': 0.15}\n"
     ]
    }
   ],
   "source": [
    "# summarize results\n",
    "print(\"Best: %f using %s\" % (gs.best_score['rmse'], gs.best_params))\n",
    "means = gs.cv_results['mean_test_rmse']\n",
    "stds = gs.cv_results['std_test_rmse']\n",
    "params = gs.cv_results['params']\n",
    "for mean, stdev, param in zip(means, stds, params):\n",
    "    print(\"%f (%f) with: %r\" % (mean, stdev, param))"
   ]
  },
  {
   "cell_type": "code",
   "execution_count": 36,
   "id": "bc4220f6",
   "metadata": {},
   "outputs": [],
   "source": [
    "#joblib.dump(gs, 'rcm_whole.pkl')\n",
    "gs1 = joblib.load('rcm_whole.pkl')"
   ]
  },
  {
   "cell_type": "code",
   "execution_count": 37,
   "id": "3ffce2c6",
   "metadata": {},
   "outputs": [
    {
     "data": {
      "text/plain": [
       "{'rmse': 0.4848925242795291, 'mae': 0.16000200734434286}"
      ]
     },
     "execution_count": 37,
     "metadata": {},
     "output_type": "execute_result"
    }
   ],
   "source": [
    "gs1.best_score"
   ]
  },
  {
   "cell_type": "code",
   "execution_count": 38,
   "id": "d5286227",
   "metadata": {},
   "outputs": [
    {
     "data": {
      "text/plain": [
       "{'n_epochs': 50, 'lr_all': 0.03, 'reg_all': 0.1}"
      ]
     },
     "execution_count": 38,
     "metadata": {},
     "output_type": "execute_result"
    }
   ],
   "source": [
    "param_best = gs1.best_params['rmse']\n",
    "param_best"
   ]
  },
  {
   "cell_type": "markdown",
   "id": "89388eda",
   "metadata": {},
   "source": [
    "### Training and Predicition Using SVD"
   ]
  },
  {
   "cell_type": "markdown",
   "id": "436efebf",
   "metadata": {},
   "source": [
    "#### Training "
   ]
  },
  {
   "cell_type": "code",
   "execution_count": 39,
   "id": "9c418d43",
   "metadata": {},
   "outputs": [],
   "source": [
    "trainset = data.build_full_trainset()\n",
    "svd = SVD(verbose=True, n_epochs=50, lr_all=0.03, reg_all=0.1)\n",
    "svd.fit(trainset)"
   ]
  },
  {
   "cell_type": "markdown",
   "id": "c714cba9",
   "metadata": {},
   "source": [
    "#### Prediction"
   ]
  },
  {
   "cell_type": "code",
   "execution_count": 44,
   "id": "65c8ebea",
   "metadata": {
    "collapsed": true
   },
   "outputs": [
    {
     "data": {
      "text/plain": [
       "282"
      ]
     },
     "execution_count": 44,
     "metadata": {},
     "output_type": "execute_result"
    }
   ],
   "source": [
    "gc.collect()\n",
    "testset = trainset.build_anti_testset()\n",
    "predictions = svd.test(testset)"
   ]
  },
  {
   "cell_type": "markdown",
   "id": "59326a19",
   "metadata": {},
   "source": [
    "### Top N product Recommendation"
   ]
  },
  {
   "cell_type": "code",
   "execution_count": 238,
   "id": "0f4b85fa",
   "metadata": {},
   "outputs": [],
   "source": [
    "def get_top_n(predictions, n=3):\n",
    "    \"\"\"Return the top-N recommendation for each user from a set of predictions.\n",
    "\n",
    "    Args:\n",
    "        predictions(list of Prediction objects): The list of predictions, as\n",
    "            returned by the test method of an algorithm.\n",
    "        n(int): The number of recommendation to output for each user. Default\n",
    "            is 10.\n",
    "\n",
    "    Returns:\n",
    "    A dict where keys are user (raw) ids and values are lists of tuples:\n",
    "        [(raw item id, rating estimation), ...] of size n.\n",
    "    \"\"\"\n",
    "\n",
    "    # First map the predictions to each user.\n",
    "    top_n = defaultdict(list)\n",
    "    for uid, iid, true_r, est, _ in predictions:\n",
    "        top_n[uid].append((iid, est))\n",
    "\n",
    "    # Then sort the predictions for each user and retrieve the k highest ones.\n",
    "    for uid, user_ratings in top_n.items():\n",
    "        user_ratings.sort(key=lambda x: x[1], reverse=True)\n",
    "        top_n[uid] = user_ratings[:n]\n",
    "\n",
    "    return top_n"
   ]
  },
  {
   "cell_type": "code",
   "execution_count": 239,
   "id": "0aa63ab7",
   "metadata": {},
   "outputs": [],
   "source": [
    "top_n = get_top_n(predictions)"
   ]
  },
  {
   "cell_type": "code",
   "execution_count": 240,
   "id": "df2cf430",
   "metadata": {},
   "outputs": [
    {
     "data": {
      "text/plain": [
       "[('P_6767', 6.655728455866976),\n",
       " ('P_44313', 6.491369020067038),\n",
       " ('P_5718', 6.478739325476905)]"
      ]
     },
     "execution_count": 240,
     "metadata": {},
     "output_type": "execute_result"
    }
   ],
   "source": [
    "### Top 3 product recommendation for user C_1001004\n",
    "top_n['C_1001004']"
   ]
  },
  {
   "cell_type": "code",
   "execution_count": 241,
   "id": "247f63a0",
   "metadata": {},
   "outputs": [],
   "source": [
    "from surprise import Dataset, get_dataset_dir, KNNBaseline"
   ]
  },
  {
   "cell_type": "markdown",
   "id": "baa7df23",
   "metadata": {},
   "source": [
    "### Top 5 similar customer to a given customer"
   ]
  },
  {
   "cell_type": "code",
   "execution_count": 242,
   "id": "cb8c1d8d",
   "metadata": {},
   "outputs": [
    {
     "name": "stdout",
     "output_type": "stream",
     "text": [
      "Estimating biases using als...\n",
      "Computing the pearson_baseline similarity matrix...\n",
      "Done computing similarity matrix.\n"
     ]
    },
    {
     "data": {
      "text/plain": [
       "<surprise.prediction_algorithms.knns.KNNBaseline at 0x2591c884c10>"
      ]
     },
     "execution_count": 242,
     "metadata": {},
     "output_type": "execute_result"
    }
   ],
   "source": [
    "algo = KNNBaseline(sim_options=sim_options)\n",
    "algo.fit(trainset)"
   ]
  },
  {
   "cell_type": "code",
   "execution_count": 243,
   "id": "31283822",
   "metadata": {},
   "outputs": [],
   "source": [
    "def top_n_similar_customer(cust, algo, num_recm = 5):\n",
    "    sim_options = {'name':'pearson_baseline','user_based':True}\n",
    "    cus_chosen_inner_id = algo.trainset.to_inner_uid(cust)\n",
    "    cus_chosen_neighbors = algo.get_neighbors(cus_chosen_inner_id, k =num_recm)\n",
    "    cus_chosen_neighbors = (algo.trainset.to_raw_uid(inner_uid) for inner_uid in cus_chosen_neighbors)\n",
    "    for cus in cus_chosen_neighbors:\n",
    "        print(cus)\n",
    "    return cus_chosen_neighbors"
   ]
  },
  {
   "cell_type": "code",
   "execution_count": 244,
   "id": "7324d526",
   "metadata": {},
   "outputs": [
    {
     "name": "stdout",
     "output_type": "stream",
     "text": [
      "C_1001322\n",
      "C_1001329\n",
      "C_1001363\n",
      "C_1001411\n",
      "C_1001612\n"
     ]
    }
   ],
   "source": [
    "neighbour = top_n_similar_customer('C_1001004', algo)"
   ]
  },
  {
   "cell_type": "markdown",
   "id": "c4260c65",
   "metadata": {},
   "source": [
    "### Finding avg recall and precision for users based on holdout set"
   ]
  },
  {
   "cell_type": "code",
   "execution_count": 245,
   "id": "281635f1",
   "metadata": {},
   "outputs": [
    {
     "data": {
      "text/plain": [
       "(5263, 12232)"
      ]
     },
     "execution_count": 245,
     "metadata": {},
     "output_type": "execute_result"
    }
   ],
   "source": [
    "cust = df_tr['Customer_num'].unique()\n",
    "prod = df_tr['Product_num'].unique()\n",
    "\n",
    "cust_ts = df_ts['Customer_num'].unique()\n",
    "prod_ts = df_ts['Product_num'].unique()\n",
    "\n",
    "cust_new = [i for i in cust_ts if i not in cust]\n",
    "prod_new = [i for i in prod_ts if i not in prod]\n",
    "len(cust_new), len(prod_new)"
   ]
  },
  {
   "cell_type": "raw",
   "id": "820c4f5b",
   "metadata": {},
   "source": [
    "Since I have trained the algo on a subset of training data so there would be missing customer as well as product in holdout set.\n",
    "So it makes sense to remove those customer and product from the hold out dataset to have an actual recall and precision calculation\n",
    "\n",
    "NOTE:\n",
    "A subset of data is being used to train and predict as on full dataset memory error was occuring due to limited memory resources.\n",
    "Also precision and recall will tend to be low because of training of Recm on holdout data set"
   ]
  },
  {
   "cell_type": "code",
   "execution_count": 246,
   "id": "b8ddb22c",
   "metadata": {},
   "outputs": [],
   "source": [
    "def metric(top_n = top_n, df_tr = df_tr):\n",
    "    lis = []\n",
    "    for cus in df_tr['Customer_num'].unique():\n",
    "        df = pd.DataFrame(top_n[cus], columns=['Product_num','rating'])\n",
    "        df['Customer_num'] = cus\n",
    "        lis.append(df)\n",
    "        \n",
    "    df_top = pd.concat(lis)[['Customer_num','Product_num','rating']]\n",
    "    df_prec = df_top.groupby(['Customer_num'])['Product_num'].count().reset_index().rename(columns={'Product_num':'prec_den'})\n",
    "    df_top1 = df_top.merge(df_prec, how='inner', on=['Customer_num'])\n",
    "    #Filtering holdoutset to contain only customers and product that are present in training sample\n",
    "    df_ts_upd = df_ts.loc[(df_ts['Customer_num'].isin(df_tr['Customer_num'].unique()))&(df_ts['Product_num'].isin(df_tr['Product_num'].unique()))]\n",
    "    df_ts_upd_agg = df_ts_upd.groupby(['Customer_num','Product_num'])['Tran_qty'].sum().reset_index()\n",
    "    df_ts_cuscount = df_ts_upd_agg.groupby(['Customer_num'])['Product_num'].count().reset_index().rename(columns={'Product_num':'recall_den'})\n",
    "    df_ts_upd_agg1 = df_ts_upd_agg.merge(df_ts_cuscount, on=['Customer_num'], how='inner')\n",
    "    df_rec = df_top1.merge(df_ts_upd_agg1, how='outer', on=['Customer_num','Product_num'])\n",
    "    df_rec['relevance'] = 0\n",
    "    df_rec.loc[(df_rec['rating'].isnull()==False)&(df_rec['Tran_qty'].isnull()==False),'relevance']= 1\n",
    "    df_rec_slice = df_rec.loc[(df_rec.relevance==1)]\n",
    "    num_cust = df_ts_upd['Customer_num'].nunique()\n",
    "    df_rec_slice['recall'] = df_rec_slice['relevance']/df_rec['recall_den']\n",
    "    df_rec_slice['precision'] = df_rec_slice['relevance']/df_rec['prec_den']\n",
    "    precision = df_rec_slice['precision'].sum(axis=0)/num_cust\n",
    "    recall = df_rec_slice['recall'].sum(axis=0)/num_cust\n",
    "    print(\"Avg precision and Avg recall across relevant users in holdout set\")\n",
    "    print({'precision': precision*100, 'recall':recall*100})"
   ]
  },
  {
   "cell_type": "code",
   "execution_count": 247,
   "id": "24d49c78",
   "metadata": {},
   "outputs": [
    {
     "name": "stdout",
     "output_type": "stream",
     "text": [
      "Avg precision and Avg recall across relevant users in holdout set\n",
      "{'precision': 0.5947136563876653, 'recall': 0.09317608092407711}\n"
     ]
    },
    {
     "name": "stderr",
     "output_type": "stream",
     "text": [
      "C:\\Users\\aaank\\AppData\\Local\\Temp\\ipykernel_7936\\3519112081.py:21: SettingWithCopyWarning: \n",
      "A value is trying to be set on a copy of a slice from a DataFrame.\n",
      "Try using .loc[row_indexer,col_indexer] = value instead\n",
      "\n",
      "See the caveats in the documentation: https://pandas.pydata.org/pandas-docs/stable/user_guide/indexing.html#returning-a-view-versus-a-copy\n",
      "  df_rec_slice['recall'] = df_rec_slice['relevance']/df_rec['recall_den']\n",
      "C:\\Users\\aaank\\AppData\\Local\\Temp\\ipykernel_7936\\3519112081.py:22: SettingWithCopyWarning: \n",
      "A value is trying to be set on a copy of a slice from a DataFrame.\n",
      "Try using .loc[row_indexer,col_indexer] = value instead\n",
      "\n",
      "See the caveats in the documentation: https://pandas.pydata.org/pandas-docs/stable/user_guide/indexing.html#returning-a-view-versus-a-copy\n",
      "  df_rec_slice['precision'] = df_rec_slice['relevance']/df_rec['prec_den']\n"
     ]
    }
   ],
   "source": [
    "metric(top_n, df_tr)"
   ]
  },
  {
   "cell_type": "code",
   "execution_count": null,
   "id": "addf7169",
   "metadata": {},
   "outputs": [],
   "source": []
  },
  {
   "cell_type": "code",
   "execution_count": null,
   "id": "b44af820",
   "metadata": {},
   "outputs": [],
   "source": []
  },
  {
   "cell_type": "code",
   "execution_count": null,
   "id": "71686618",
   "metadata": {},
   "outputs": [],
   "source": []
  },
  {
   "cell_type": "code",
   "execution_count": null,
   "id": "55062a39",
   "metadata": {},
   "outputs": [],
   "source": []
  },
  {
   "cell_type": "code",
   "execution_count": null,
   "id": "dcf9319b",
   "metadata": {},
   "outputs": [],
   "source": []
  }
 ],
 "metadata": {
  "kernelspec": {
   "display_name": "Python 3 (ipykernel)",
   "language": "python",
   "name": "python3"
  },
  "language_info": {
   "codemirror_mode": {
    "name": "ipython",
    "version": 3
   },
   "file_extension": ".py",
   "mimetype": "text/x-python",
   "name": "python",
   "nbconvert_exporter": "python",
   "pygments_lexer": "ipython3",
   "version": "3.9.13"
  }
 },
 "nbformat": 4,
 "nbformat_minor": 5
}
